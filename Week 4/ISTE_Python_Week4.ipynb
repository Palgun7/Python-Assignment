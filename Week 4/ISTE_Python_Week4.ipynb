{
  "nbformat": 4,
  "nbformat_minor": 0,
  "metadata": {
    "colab": {
      "name": "ISTE_Python_Week4.ipynb",
      "provenance": [],
      "collapsed_sections": [],
      "authorship_tag": "ABX9TyNW2lBbzAb0OZI4O22hAF29",
      "include_colab_link": true
    },
    "kernelspec": {
      "name": "python3",
      "display_name": "Python 3"
    },
    "language_info": {
      "name": "python"
    }
  },
  "cells": [
    {
      "cell_type": "markdown",
      "metadata": {
        "id": "view-in-github",
        "colab_type": "text"
      },
      "source": [
        "<a href=\"https://colab.research.google.com/github/AmithPenumudi/ISTE_Python/blob/main/ISTE_Python_Week4.ipynb\" target=\"_parent\"><img src=\"https://colab.research.google.com/assets/colab-badge.svg\" alt=\"Open In Colab\"/></a>"
      ]
    },
    {
      "cell_type": "markdown",
      "metadata": {
        "id": "o0nh2qlpgo4N"
      },
      "source": [
        "**Week-4** Assignment"
      ]
    },
    {
      "cell_type": "markdown",
      "metadata": {
        "id": "2AtrhXHsgtpb"
      },
      "source": [
        "Question-1"
      ]
    },
    {
      "cell_type": "code",
      "metadata": {
        "id": "T7l2WeMFgjGz"
      },
      "source": [
        "class Car:\n",
        "  wheels=4\n",
        "\n",
        "  def __init__(self,model,name,year,color):\n",
        "    print(\"Car made\")\n",
        "    self.model=model\n",
        "    self.name=name\n",
        "    self.year=year\n",
        "    self.color=color\n",
        "\n",
        "  def features(self):\n",
        "    print(\"Features of the car are:\", self.model,self.name,self.year,self.color,sep=\",\")  \n",
        "\n",
        "  def updatename(self,name):\n",
        "   self.name=name\n",
        "\n",
        "  def updatecolor(self,color):\n",
        "    self.color=color \n"
      ],
      "execution_count": 42,
      "outputs": []
    },
    {
      "cell_type": "code",
      "metadata": {
        "colab": {
          "base_uri": "https://localhost:8080/"
        },
        "id": "brVCDNhriPKW",
        "outputId": "b1f2008d-cc28-4026-d7f6-98ecec35effc"
      },
      "source": [
        "car1=Car(\"1.0 HXT+6MT\",\"Kia Sonet\",2021,\"Grey\")\n",
        "\n",
        "car1.features()\n",
        "print(\"Updated\")\n",
        "car1.updatename(\"Kia Seltos\")\n",
        "\n",
        "car1.features()\n",
        "print(\"Updated\")\n",
        "car1.updatecolor(\"Red\")\n",
        "car1.features()"
      ],
      "execution_count": 52,
      "outputs": [
        {
          "output_type": "stream",
          "text": [
            "Car made\n",
            "Features of the car are:,1.0 HXT+6MT,Kia Sonet,2021,Grey\n",
            "Updated\n",
            "Features of the car are:,1.0 HXT+6MT,Kia Seltos,2021,Grey\n",
            "Updated\n",
            "Features of the car are:,1.0 HXT+6MT,Kia Seltos,2021,Red\n"
          ],
          "name": "stdout"
        }
      ]
    },
    {
      "cell_type": "markdown",
      "metadata": {
        "id": "acfhy0rgmCSd"
      },
      "source": [
        "Question-2"
      ]
    },
    {
      "cell_type": "code",
      "metadata": {
        "colab": {
          "base_uri": "https://localhost:8080/"
        },
        "id": "O7GvtPF_mEXC",
        "outputId": "4b7dd64e-67be-4901-ddf7-2f00b1163c66"
      },
      "source": [
        "string=\"Coding is fun\"\n",
        "stri=[string[i:i+3] for i in range(0,len(string),3)]\n",
        "print(stri)\n",
        "stri_set=set(stri)\n",
        "seperator=''\n",
        "print(seperator.join(stri_set))\n"
      ],
      "execution_count": 44,
      "outputs": [
        {
          "output_type": "stream",
          "text": [
            "['Cod', 'ing', ' is', ' fu', 'n']\n",
            "ing fu isCodn\n"
          ],
          "name": "stdout"
        }
      ]
    },
    {
      "cell_type": "markdown",
      "metadata": {
        "id": "pvmtFhzdVjBL"
      },
      "source": [
        "Question-3"
      ]
    },
    {
      "cell_type": "code",
      "metadata": {
        "id": "vLhLlbMwVkg4"
      },
      "source": [
        "class student:\n",
        "\n",
        "\n",
        "  def __init__(self, RollNo, PhoneNo, Grade,Name):\n",
        "    print(\"Student Profile\")\n",
        "    self.RollNo=RollNo\n",
        "    self.PhoneNo=PhoneNo\n",
        "    self.Grade=Grade\n",
        "    self.Name=Name\n",
        "\n",
        "\n",
        "  def profile(self):\n",
        "    print(\"Name of the student:\"+self.Name)    \n",
        "    print(\"Roll No:\"+str(self.RollNo))\n",
        "    print(\"Phone Number:\"+str(self.PhoneNo))\n",
        "    print(\"Grade:\"+self.Grade)"
      ],
      "execution_count": 45,
      "outputs": []
    },
    {
      "cell_type": "code",
      "metadata": {
        "colab": {
          "base_uri": "https://localhost:8080/"
        },
        "id": "WxnFiayFXMVZ",
        "outputId": "48cfeab4-ef5f-44d3-a82d-26ee65be2dce"
      },
      "source": [
        "student1=student(238,963214587,\"7th Grade\",\"Rahul\")\n",
        "\n",
        "student1.profile()"
      ],
      "execution_count": 46,
      "outputs": [
        {
          "output_type": "stream",
          "text": [
            "Student Profile\n",
            "Name of the student:Rahul\n",
            "Roll No:238\n",
            "Phone Number:963214587\n",
            "Grade:7th Grade\n"
          ],
          "name": "stdout"
        }
      ]
    },
    {
      "cell_type": "code",
      "metadata": {
        "id": "3mfZR-YKd96b"
      },
      "source": [
        "class sport(student):\n",
        "  def __init__(self, RollNo, PhoneNo, Grade,Name,sport):\n",
        "    print(\"Student Profile\")\n",
        "    self.RollNo=RollNo\n",
        "    self.PhoneNo=PhoneNo\n",
        "    self.Grade=Grade\n",
        "    self.Name=Name\n",
        "    self.sport=sport\n",
        "\n",
        "  def game(self):\n",
        "    print(\"Sport played by \"+self.Name+\" is \"+self.sport)  \n",
        "\n",
        "  def change_phoneno(self,PhoneNo):\n",
        "    self.PhoneNo=PhoneNo\n",
        "\n",
        "  def change_sport(self,sport):\n",
        "    self.sport=sport   \n",
        "\n",
        "  def __del__(self):\n",
        "    print(self.Name+\" doesn't play sports anymore\") "
      ],
      "execution_count": 68,
      "outputs": []
    },
    {
      "cell_type": "code",
      "metadata": {
        "colab": {
          "base_uri": "https://localhost:8080/"
        },
        "id": "sbIaoznaeAd3",
        "outputId": "577e392c-31de-4ec0-e6fc-6f94d5070c8a"
      },
      "source": [
        "stud=sport(238,963214587,\"7th Grade\",\"Rahul\",\"Cricket\")\n",
        "\n",
        "stud.game()\n",
        "print(\"Updated\")\n",
        "stud.change_phoneno(987456321)\n",
        "stud.profile()"
      ],
      "execution_count": 72,
      "outputs": [
        {
          "output_type": "stream",
          "text": [
            "Student Profile\n",
            "Sport played by Rahul is Cricket\n",
            "Updated\n",
            "Name of the student:Rahul\n",
            "Roll No:238\n",
            "Phone Number:987456321\n",
            "Grade:7th Grade\n"
          ],
          "name": "stdout"
        }
      ]
    },
    {
      "cell_type": "code",
      "metadata": {
        "colab": {
          "base_uri": "https://localhost:8080/"
        },
        "id": "gAX2bwYFfSQJ",
        "outputId": "9f22bda4-2aca-4283-9853-ac996b70f289"
      },
      "source": [
        "print(\"Updated\")\n",
        "stud.change_sport(\"Badminton\")\n",
        "stud.game()"
      ],
      "execution_count": 73,
      "outputs": [
        {
          "output_type": "stream",
          "text": [
            "Updated\n",
            "Sport played by Rahul is Badminton\n"
          ],
          "name": "stdout"
        }
      ]
    },
    {
      "cell_type": "code",
      "metadata": {
        "colab": {
          "base_uri": "https://localhost:8080/"
        },
        "id": "eSX9M6ODfZiZ",
        "outputId": "6f62ee24-8798-4333-de43-af96e05ae5b9"
      },
      "source": [
        "del stud"
      ],
      "execution_count": 74,
      "outputs": [
        {
          "output_type": "stream",
          "text": [
            "Rahul doesn't play sports anymore\n"
          ],
          "name": "stdout"
        }
      ]
    }
  ]
}